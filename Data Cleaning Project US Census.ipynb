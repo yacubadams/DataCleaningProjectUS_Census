{
  "metadata": {
    "language_info": {
      "codemirror_mode": {
        "name": "python",
        "version": 3
      },
      "file_extension": ".py",
      "mimetype": "text/x-python",
      "name": "python",
      "nbconvert_exporter": "python",
      "pygments_lexer": "ipython3",
      "version": "3.8"
    },
    "kernelspec": {
      "name": "python",
      "display_name": "Python (Pyodide)",
      "language": "python"
    }
  },
  "nbformat_minor": 4,
  "nbformat": 4,
  "cells": [
    {
      "cell_type": "code",
      "source": "import pandas as pd\nimport numpy as np\nimport matplotlib.pyplot as plt\nimport glob\n\n#TASK 1\n#using glob library and regex * to read all of the states.csv file\n#creating a data frame using list which contain a loop to read all of the files\n#using concate to concatenate/merge all of the csv into one \n\nus_sensus= glob.glob(\"states*.csv\")\n\ndf_list = []\n\nfor filename in us_sensus:\n  df_list.append(pd.read_csv(filename))\n  \nus_sensus = pd.concat(df_list)\n\n#printing the first five rows\n#printing the total row of the data\n\nprint(us_sensus.head())\nprint(len(us_sensus))\n\n#TASK 2\n#printing the data types to see if the data is plotable\n#printing the columns name\n\nprint(us_sensus.dtypes)\nprint(us_sensus.columns)\n\n# remove % signs and convert to numeric type for multiple columns\ncols_to_convert = ['Hispanic', 'White','Black', 'Native', 'Asian', 'Pacific']\n\nfor col in cols_to_convert:\n    us_sensus[col] = us_sensus[col].replace('%', '', regex=True)\n    us_sensus[col] = pd.to_numeric(us_sensus[col])\n\n# remove $ signs from Income column\nus_sensus['Income'] = us_sensus['Income'].replace('[\\$,]', '', regex=True)\nus_sensus['Income'] = pd.to_numeric(us_sensus['Income'])\n\n#separating GenderPop column into male and female\nus_sensus[['MalePop', 'FemalePop']] = us_sensus['GenderPop'].str.split('_', expand=True)\n\n#removing the string M and F from the column to make the data plotable\nus_sensus.MalePop = us_sensus['MalePop'].replace('M', '', regex=True)\nus_sensus.FemalePop = us_sensus['FemalePop'].replace('F', '', regex=True)\n\n#converting the sring data in MalePop and FemalePop into numerical data\nus_sensus.MalePop = pd.to_numeric(us_sensus['MalePop'])\nus_sensus.FemalePop = pd.to_numeric(us_sensus['FemalePop'])  \n\n# convert the State column to categorical codes\nus_sensus['StateCode'] = pd.Categorical(us_sensus['State']).codes + 1\n\n# drop the 'Unnamed' and GenderPop column because it's unnecesary\nus_sensus = us_sensus.drop('GenderPop', axis=1)\nus_sensus = us_sensus.drop(us_sensus.columns[0], axis=1)\n\n\n# I want to move StateCode from furthest right to next to State column \n# using df.pop() to move and remove it from the dataframe\n# then inserting the column at the desired index. Index 1 is the second.\ncol_to_move = us_sensus.pop('StateCode')\nus_sensus.insert(1, 'StateCode', col_to_move)\n\n#printing the had and data type to confirm. Yes data is now plotable\nprint(us_sensus.head())\nprint(us_sensus.dtypes)\n\n\n\n#checking if there is any nan value\n\nfor col in us_sensus:\n    has_nan = us_sensus[col].isnull().values.any()\n    if has_nan:\n        print(f'Column {col} contains NaN values.')\n        \n# we know now column Pacifi and FemalePop has nan value.\n# those column are the percentage, so to fill it we just need to\n# subtract from it's data counterpart\n\nus_sensus['FemalePop'] = us_sensus['FemalePop'].fillna(us_sensus['TotalPop'] - us_sensus['MalePop'])\n\nus_sensus['Pacific'] = us_sensus['Pacific'].fillna((100 - (us_sensus['Hispanic'] + us_sensus['White'] +\n                        us_sensus['Black'] + us_sensus['Native'] + us_sensus['Asian'])))\nus_sensus['Pacific'] = us_sensus['Pacific'].round(2)\n\n#checking if there is any duplicates    \n        \nfor col in us_sensus:\n    duplicates = us_sensus.duplicated(subset=col)\n    print(f\"Duplicates in {col}: {sum(duplicates)}\")    \n\n# dropping the duplicates. The value can be a duplicate but a category which is 'State' can not\n# be a duplicate. Hence needs to be dropped\nus_sensus = us_sensus.drop_duplicates(subset=['State'])\n\nus_sensus.to_csv('cleaned_us_sensus.csv', index=False)\n\n",
      "metadata": {
        "trusted": true
      },
      "execution_count": 98,
      "outputs": [
        {
          "name": "stdout",
          "text": "   Unnamed: 0       State  TotalPop Hispanic   White   Black  Native   Asian  \\\n0           0     Alabama   4830620    3.75%  61.88%  31.25%   0.45%   1.05%   \n1           1      Alaska    733375    5.91%  60.91%   2.85%  16.39%   5.45%   \n2           2     Arizona   6641928   29.57%  57.12%   3.85%   4.36%   2.88%   \n3           3    Arkansas   2958208    6.22%  71.14%  18.97%   0.52%   1.14%   \n4           4  California  38421464   37.29%  40.22%   5.68%   0.41%  13.05%   \n\n  Pacific       Income            GenderPop  \n0   0.03%  $43,296.36     2341093M_2489527F  \n1   1.06%  $70,354.74       384160M_349215F  \n2   0.17%  $54,207.82     3299088M_3342840F  \n3   0.15%  $41,935.63     1451913M_1506295F  \n4   0.35%  $67,264.78   19087135M_19334329F  \n60\nUnnamed: 0     int64\nState         object\nTotalPop       int64\nHispanic      object\nWhite         object\nBlack         object\nNative        object\nAsian         object\nPacific       object\nIncome        object\nGenderPop     object\ndtype: object\nIndex(['Unnamed: 0', 'State', 'TotalPop', 'Hispanic', 'White', 'Black',\n       'Native', 'Asian', 'Pacific', 'Income', 'GenderPop'],\n      dtype='object')\n        State  StateCode  TotalPop  Hispanic  White  Black  Native  Asian  \\\n0     Alabama          1   4830620      3.75  61.88  31.25    0.45   1.05   \n1      Alaska          2    733375      5.91  60.91   2.85   16.39   5.45   \n2     Arizona          3   6641928     29.57  57.12   3.85    4.36   2.88   \n3    Arkansas          4   2958208      6.22  71.14  18.97    0.52   1.14   \n4  California          5  38421464     37.29  40.22   5.68    0.41  13.05   \n\n   Pacific    Income   MalePop   FemalePop  \n0     0.03  43296.36   2341093   2489527.0  \n1     1.06  70354.74    384160    349215.0  \n2     0.17  54207.82   3299088   3342840.0  \n3     0.15  41935.63   1451913   1506295.0  \n4     0.35  67264.78  19087135  19334329.0  \nState         object\nStateCode       int8\nTotalPop       int64\nHispanic     float64\nWhite        float64\nBlack        float64\nNative       float64\nAsian        float64\nPacific      float64\nIncome       float64\nMalePop        int64\nFemalePop    float64\ndtype: object\nColumn Pacific contains NaN values.\nColumn FemalePop contains NaN values.\nDuplicates in State: 9\nDuplicates in StateCode: 9\nDuplicates in TotalPop: 9\nDuplicates in Hispanic: 10\nDuplicates in White: 9\nDuplicates in Black: 10\nDuplicates in Native: 21\nDuplicates in Asian: 11\nDuplicates in Pacific: 38\nDuplicates in Income: 9\nDuplicates in MalePop: 9\nDuplicates in FemalePop: 9\n",
          "output_type": "stream"
        }
      ]
    },
    {
      "cell_type": "code",
      "source": "",
      "metadata": {},
      "execution_count": null,
      "outputs": []
    },
    {
      "cell_type": "code",
      "source": "",
      "metadata": {},
      "execution_count": null,
      "outputs": []
    }
  ]
}